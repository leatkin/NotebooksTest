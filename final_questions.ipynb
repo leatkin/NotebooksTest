{
 "cells": [
  {
   "cell_type": "markdown",
   "metadata": {},
   "source": [
    "# Data Science tools1 final winter 2019.\n",
    "Total Time 1.45 Hours\n",
    "\n",
    "- Please upload completed notebook to canvas before 8.55 p.m\n",
    "- You are allowed to use any thing to solve problem in this notebook\n",
    "- Talking online or to other person is not allowed"
   ]
  },
  {
   "cell_type": "markdown",
   "metadata": {},
   "source": [
    "<font color=\"red\"> Please write you name and DU id</font>\n",
    "\n",
    "Name:\n",
    "\n",
    "DU ID:"
   ]
  },
  {
   "cell_type": "code",
   "execution_count": 1,
   "metadata": {},
   "outputs": [],
   "source": [
    "import pandas as pd\n",
    "from io import BytesIO\n",
    "from zipfile import ZipFile\n",
    "import requests"
   ]
  },
  {
   "cell_type": "markdown",
   "metadata": {},
   "source": [
    "# Q1a (3= 1(first page data)+1(second page data)+ 1(proper columns, no multi index))  Extract table about Canceled Departures flights: Denver Intl Airport (Denver, CO) from https://flightaware.com/live/airport/KDEN/cancelled_origin. Only use data from first and second page(total 40 records). Final dataFrame must have  only ['Ident', 'Type', 'Destination', 'Departure'] columns\n",
    "\n",
    "hint: use pandas read_html"
   ]
  },
  {
   "cell_type": "code",
   "execution_count": 2,
   "metadata": {},
   "outputs": [],
   "source": [
    "# Write code here"
   ]
  },
  {
   "cell_type": "markdown",
   "metadata": {},
   "source": [
    "# Q2b(.5 points) Create a new column named dst_airtport_code in canceled_df DataFrame.  Destination airport code(dst_airtport_code) is in Destination column."
   ]
  },
  {
   "cell_type": "code",
   "execution_count": 232,
   "metadata": {},
   "outputs": [],
   "source": [
    "cancelled_df = pd.read_csv('https://github.com/psnegi/datasets/raw/master/flights/cancelled_flights.csv', sep=';')"
   ]
  },
  {
   "cell_type": "code",
   "execution_count": 234,
   "metadata": {},
   "outputs": [
    {
     "data": {
      "text/html": [
       "<div>\n",
       "<style scoped>\n",
       "    .dataframe tbody tr th:only-of-type {\n",
       "        vertical-align: middle;\n",
       "    }\n",
       "\n",
       "    .dataframe tbody tr th {\n",
       "        vertical-align: top;\n",
       "    }\n",
       "\n",
       "    .dataframe thead th {\n",
       "        text-align: right;\n",
       "    }\n",
       "</style>\n",
       "<table border=\"1\" class=\"dataframe\">\n",
       "  <thead>\n",
       "    <tr style=\"text-align: right;\">\n",
       "      <th></th>\n",
       "      <th>Ident</th>\n",
       "      <th>Type</th>\n",
       "      <th>Destination</th>\n",
       "      <th>Departure</th>\n",
       "    </tr>\n",
       "  </thead>\n",
       "  <tbody>\n",
       "    <tr>\n",
       "      <th>0</th>\n",
       "      <td>SWA1721</td>\n",
       "      <td>B738</td>\n",
       "      <td>Salt Lake City Intl (KSLC)</td>\n",
       "      <td>Wed 08:30PM MDT</td>\n",
       "    </tr>\n",
       "    <tr>\n",
       "      <th>1</th>\n",
       "      <td>SWA1899</td>\n",
       "      <td>B738</td>\n",
       "      <td>Washington Dulles Intl (KIAD)</td>\n",
       "      <td>Wed 05:25PM MDT</td>\n",
       "    </tr>\n",
       "    <tr>\n",
       "      <th>2</th>\n",
       "      <td>UAL2760</td>\n",
       "      <td>A320</td>\n",
       "      <td>Chicago O'Hare Intl (KORD)</td>\n",
       "      <td>Wed 12:57PM MDT</td>\n",
       "    </tr>\n",
       "    <tr>\n",
       "      <th>3</th>\n",
       "      <td>SWA1988</td>\n",
       "      <td>B737</td>\n",
       "      <td>LaGuardia (KLGA)</td>\n",
       "      <td>Wed 06:55AM MDT</td>\n",
       "    </tr>\n",
       "    <tr>\n",
       "      <th>4</th>\n",
       "      <td>SWA1721</td>\n",
       "      <td>B738</td>\n",
       "      <td>Salt Lake City Intl (KSLC)</td>\n",
       "      <td>Tue 08:30PM MDT</td>\n",
       "    </tr>\n",
       "  </tbody>\n",
       "</table>\n",
       "</div>"
      ],
      "text/plain": [
       "     Ident  Type                    Destination        Departure\n",
       "0  SWA1721  B738     Salt Lake City Intl (KSLC)  Wed 08:30PM MDT\n",
       "1  SWA1899  B738  Washington Dulles Intl (KIAD)  Wed 05:25PM MDT\n",
       "2  UAL2760  A320     Chicago O'Hare Intl (KORD)  Wed 12:57PM MDT\n",
       "3  SWA1988  B737               LaGuardia (KLGA)  Wed 06:55AM MDT\n",
       "4  SWA1721  B738     Salt Lake City Intl (KSLC)  Tue 08:30PM MDT"
      ]
     },
     "execution_count": 234,
     "metadata": {},
     "output_type": "execute_result"
    }
   ],
   "source": [
    "cancelled_df.head()"
   ]
  },
  {
   "cell_type": "code",
   "execution_count": null,
   "metadata": {},
   "outputs": [],
   "source": [
    "# Write code here\n"
   ]
  },
  {
   "cell_type": "markdown",
   "metadata": {},
   "source": [
    "# Q1c (1 point) List top 3 canceled dst_airport_code and cancel count(How many flights are canceled to this destination)"
   ]
  },
  {
   "cell_type": "code",
   "execution_count": 5,
   "metadata": {},
   "outputs": [],
   "source": [
    "# Write code here\n",
    "\n",
    "\n"
   ]
  },
  {
   "cell_type": "markdown",
   "metadata": {},
   "source": [
    " <br>\n",
    " \n",
    " <br>\n",
    " <br>\n",
    " \n",
    " \n",
    " \n",
    " "
   ]
  },
  {
   "cell_type": "markdown",
   "metadata": {},
   "source": [
    "\n",
    "Check this webpage\n",
    "https://en.wikipedia.org/wiki/Global_issue\n",
    "\n",
    "We'll extract text from **Global catastrophic risk** section."
   ]
  },
  {
   "cell_type": "code",
   "execution_count": 171,
   "metadata": {},
   "outputs": [],
   "source": [
    "import requests"
   ]
  },
  {
   "cell_type": "markdown",
   "metadata": {},
   "source": [
    "# Q2a(2.0 points) Use requests module to extract the html text between A <a href=\"/wiki/Global_catastrophic_risk\" title= ........ engulfing the Earth."
   ]
  },
  {
   "cell_type": "code",
   "execution_count": 6,
   "metadata": {},
   "outputs": [],
   "source": [
    "# Write code here\n"
   ]
  },
  {
   "cell_type": "markdown",
   "metadata": {},
   "source": [
    "# 2b(1.75 Points) In the following *catastrophic_risk_text*  , remove all the text between matching < and > including them. Print text after removing < ... >. Use *re* module."
   ]
  },
  {
   "cell_type": "code",
   "execution_count": 7,
   "metadata": {},
   "outputs": [],
   "source": [
    "catastrophic_risk_text= 'A <a href=\"/wiki/Global_catastrophic_risk\" title=\"Global catastrophic risk\">global catastrophic risk</a> is a hypothetical future event which could damage human well-being on a global scale,<sup id=\"cite_ref-10\" class=\"reference\"><a href=\"#cite_note-10\">&#91;10&#93;</a></sup> even crippling or destroying <a href=\"/wiki/Modernity\" title=\"Modernity\">modern civilization</a>.<sup id=\"cite_ref-world_11-0\" class=\"reference\"><a href=\"#cite_note-world-11\">&#91;11&#93;</a></sup> An event that could cause <a href=\"/wiki/Human_extinction\" title=\"Human extinction\">human extinction</a> or permanently and drastically curtail humanity\\'s potential is known as an <a href=\"/wiki/Existential_risk\" class=\"mw-redirect\" title=\"Existential risk\">existential risk</a>.<sup id=\"cite_ref-types_12-0\" class=\"reference\"><a href=\"#cite_note-types-12\">&#91;12&#93;</a></sup>\\n</p><p>Potential global catastrophic risks include anthropogenic risks, caused by humans (technology, governance, climate change), and natural or external risks.<sup id=\"cite_ref-world_11-1\" class=\"reference\"><a href=\"#cite_note-world-11\">&#91;11&#93;</a></sup> Examples of technology risks are <a href=\"/wiki/Existential_risk_from_artificial_general_intelligence\" title=\"Existential risk from artificial general intelligence\">hostile artificial intelligence</a> and destructive <a href=\"/wiki/Biotechnology\" title=\"Biotechnology\">biotechnology</a> or <a href=\"/wiki/Molecular_nanotechnology#Risks\" title=\"Molecular nanotechnology\">nanotechnology</a>. Insufficient or malign <a href=\"/wiki/Global_governance\" title=\"Global governance\">global governance</a> creates risks in the social and political domain, such as a <a href=\"/wiki/World_War_III\" title=\"World War III\">global war</a>, including <a href=\"/wiki/Nuclear_holocaust\" title=\"Nuclear holocaust\">nuclear holocaust</a>, <a href=\"/wiki/Bioterrorism\" title=\"Bioterrorism\">bioterrorism</a> using <a href=\"/wiki/Genetically_modified_organism\" title=\"Genetically modified organism\">genetically modified organisms</a>, <a href=\"/wiki/Cyberterrorism\" title=\"Cyberterrorism\">cyberterrorism</a> destroying <a href=\"/wiki/Critical_infrastructure\" title=\"Critical infrastructure\">critical infrastructure</a> like the <a href=\"/wiki/Electrical_grid\" title=\"Electrical grid\">electrical grid</a>; or the failure to manage a natural <a href=\"/wiki/Pandemic\" title=\"Pandemic\">pandemic</a>. Problems and risks in the domain of <a href=\"/wiki/Earth_system_governance\" title=\"Earth system governance\">earth system governance</a> include <a href=\"/wiki/Global_warming\" title=\"Global warming\">global warming</a>, <a href=\"/wiki/Environmental_degradation\" title=\"Environmental degradation\">environmental degradation</a>, including <a href=\"/wiki/Extinction\" title=\"Extinction\">extinction</a> of species, <a href=\"/wiki/Famine\" title=\"Famine\">famine</a> as a result of <a href=\"/wiki/Social_development_theory\" title=\"Social development theory\">non-equitable</a> resource distribution, <a href=\"/wiki/Human_overpopulation\" title=\"Human overpopulation\">human overpopulation</a>, <a href=\"/wiki/Crop_failures\" class=\"mw-redirect\" title=\"Crop failures\">crop failures</a> and non-<a href=\"/wiki/Sustainable_agriculture\" title=\"Sustainable agriculture\">sustainable agriculture</a>. Examples of non-anthropogenic risks are an asteroid <a href=\"/wiki/Impact_event\" title=\"Impact event\">impact event</a>, a <a href=\"/wiki/Supervolcano\" title=\"Supervolcano\">supervolcanic</a> <a href=\"/wiki/Types_of_volcanic_eruptions\" title=\"Types of volcanic eruptions\">eruption</a>, a <a href=\"/wiki/Gamma-ray_burst#Hypothetical_effects_on_Earth_in_the_past\" title=\"Gamma-ray burst\">lethal gamma-ray burst</a>, a <a href=\"/wiki/Geomagnetic_storm\" title=\"Geomagnetic storm\">geomagnetic storm</a> destroying electronic equipment, natural long-term <a href=\"/wiki/Climate_change\" title=\"Climate change\">climate change</a>, hostile <a href=\"/wiki/Extraterrestrial_life\" title=\"Extraterrestrial life\">extraterrestrial life</a>, or the predictable <a href=\"/wiki/Sun\" title=\"Sun\">Sun</a> transforming into a <a href=\"/wiki/Future_of_Earth#Red_giant_stage\" title=\"Future of Earth\">red giant star</a> engulfing the Earth.'"
   ]
  },
  {
   "cell_type": "code",
   "execution_count": 8,
   "metadata": {},
   "outputs": [
    {
     "data": {
      "text/plain": [
       "'A <a href=\"/wiki/Global_catastrophic_risk\" title=\"Global catastrophic risk\">global catastrophic risk</a> is a hypothetical future event which could damage human well-being on a global scale,<sup id=\"cite_ref-10\" class=\"reference\"><a href=\"#cite_note-10\">&#91;10&#93;</a></sup> even crippling or destroying <a href=\"/wiki/Modernity\" title=\"Modernity\">modern civilization</a>.<sup id=\"cite_ref-world_11-0\" class=\"reference\"><a href=\"#cite_note-world-11\">&#91;11&#93;</a></sup> An event that could cause <a href=\"/wiki/Human_extinction\" title=\"Human extinction\">human extinction</a> or permanently and drastically curtail humanity\\'s potential is known as an <a href=\"/wiki/Existential_risk\" class=\"mw-redirect\" title=\"Existential risk\">existential risk</a>.<sup id=\"cite_ref-types_12-0\" class=\"reference\"><a href=\"#cite_note-types-12\">&#91;12&#93;</a></sup>\\n</p><p>Potential global catastrophic risks include anthropogenic risks, caused by humans (technology, governance, climate change), and natural or external risks.<sup id=\"cite_ref-world_11-1\" class=\"reference\"><a href=\"#cite_note-world-11\">&#91;11&#93;</a></sup> Examples of technology risks are <a href=\"/wiki/Existential_risk_from_artificial_general_intelligence\" title=\"Existential risk from artificial general intelligence\">hostile artificial intelligence</a> and destructive <a href=\"/wiki/Biotechnology\" title=\"Biotechnology\">biotechnology</a> or <a href=\"/wiki/Molecular_nanotechnology#Risks\" title=\"Molecular nanotechnology\">nanotechnology</a>. Insufficient or malign <a href=\"/wiki/Global_governance\" title=\"Global governance\">global governance</a> creates risks in the social and political domain, such as a <a href=\"/wiki/World_War_III\" title=\"World War III\">global war</a>, including <a href=\"/wiki/Nuclear_holocaust\" title=\"Nuclear holocaust\">nuclear holocaust</a>, <a href=\"/wiki/Bioterrorism\" title=\"Bioterrorism\">bioterrorism</a> using <a href=\"/wiki/Genetically_modified_organism\" title=\"Genetically modified organism\">genetically modified organisms</a>, <a href=\"/wiki/Cyberterrorism\" title=\"Cyberterrorism\">cyberterrorism</a> destroying <a href=\"/wiki/Critical_infrastructure\" title=\"Critical infrastructure\">critical infrastructure</a> like the <a href=\"/wiki/Electrical_grid\" title=\"Electrical grid\">electrical grid</a>; or the failure to manage a natural <a href=\"/wiki/Pandemic\" title=\"Pandemic\">pandemic</a>. Problems and risks in the domain of <a href=\"/wiki/Earth_system_governance\" title=\"Earth system governance\">earth system governance</a> include <a href=\"/wiki/Global_warming\" title=\"Global warming\">global warming</a>, <a href=\"/wiki/Environmental_degradation\" title=\"Environmental degradation\">environmental degradation</a>, including <a href=\"/wiki/Extinction\" title=\"Extinction\">extinction</a> of species, <a href=\"/wiki/Famine\" title=\"Famine\">famine</a> as a result of <a href=\"/wiki/Social_development_theory\" title=\"Social development theory\">non-equitable</a> resource distribution, <a href=\"/wiki/Human_overpopulation\" title=\"Human overpopulation\">human overpopulation</a>, <a href=\"/wiki/Crop_failures\" class=\"mw-redirect\" title=\"Crop failures\">crop failures</a> and non-<a href=\"/wiki/Sustainable_agriculture\" title=\"Sustainable agriculture\">sustainable agriculture</a>. Examples of non-anthropogenic risks are an asteroid <a href=\"/wiki/Impact_event\" title=\"Impact event\">impact event</a>, a <a href=\"/wiki/Supervolcano\" title=\"Supervolcano\">supervolcanic</a> <a href=\"/wiki/Types_of_volcanic_eruptions\" title=\"Types of volcanic eruptions\">eruption</a>, a <a href=\"/wiki/Gamma-ray_burst#Hypothetical_effects_on_Earth_in_the_past\" title=\"Gamma-ray burst\">lethal gamma-ray burst</a>, a <a href=\"/wiki/Geomagnetic_storm\" title=\"Geomagnetic storm\">geomagnetic storm</a> destroying electronic equipment, natural long-term <a href=\"/wiki/Climate_change\" title=\"Climate change\">climate change</a>, hostile <a href=\"/wiki/Extraterrestrial_life\" title=\"Extraterrestrial life\">extraterrestrial life</a>, or the predictable <a href=\"/wiki/Sun\" title=\"Sun\">Sun</a> transforming into a <a href=\"/wiki/Future_of_Earth#Red_giant_stage\" title=\"Future of Earth\">red giant star</a> engulfing the Earth.'"
      ]
     },
     "execution_count": 8,
     "metadata": {},
     "output_type": "execute_result"
    }
   ],
   "source": [
    "catastrophic_risk_text"
   ]
  },
  {
   "cell_type": "code",
   "execution_count": 205,
   "metadata": {},
   "outputs": [],
   "source": [
    "import re"
   ]
  },
  {
   "cell_type": "code",
   "execution_count": null,
   "metadata": {},
   "outputs": [],
   "source": [
    "# write code here\n",
    "\n"
   ]
  },
  {
   "cell_type": "markdown",
   "metadata": {},
   "source": [
    "# Q2c(1.5 point)  In the following *text_no_tag*, remove #, &; and digits surrounding them. If  digits are separate don't remove them. Print final clean text"
   ]
  },
  {
   "cell_type": "code",
   "execution_count": 24,
   "metadata": {},
   "outputs": [],
   "source": [
    "text_no_tag= \"A global catastrophic risk is a hypothetical future event which could damage human well-being on a global scale,&#91;10&#93; even crippling or destroying modern civilization.&#91;11&#93; An event that could cause human extinction or permanently and drastically curtail humanity's potential is known as an existential risk.&#91;12&#93;\\nPotential global catastrophic risks include anthropogenic risks, caused by humans (technology, governance, climate change), and natural or external risks.&#91;11&#93; Examples of technology risks are hostile artificial intelligence and destructive biotechnology or nanotechnology. Insufficient or malign global governance creates risks in the social and political domain, such as a global war, including nuclear holocaust, bioterrorism using genetically modified organisms, cyberterrorism destroying critical infrastructure like the electrical grid; or the failure to manage a natural pandemic. Problems and risks in the domain of earth system governance include global warming, environmental degradation, including extinction of species, famine as a result of non-equitable resource distribution, human overpopulation, crop failures and non-sustainable agriculture. Examples of non-anthropogenic risks are an asteroid impact event, a supervolcanic eruption, a lethal gamma-ray burst, a geomagnetic storm destroying electronic equipment, natural long-term climate change, hostile extraterrestrial life, or the predictable Sun transforming into a red giant star engulfing the Earth.\""
   ]
  },
  {
   "cell_type": "code",
   "execution_count": 25,
   "metadata": {},
   "outputs": [
    {
     "data": {
      "text/plain": [
       "\"A global catastrophic risk is a hypothetical future event which could damage human well-being on a global scale,&#91;10&#93; even crippling or destroying modern civilization.&#91;11&#93; An event that could cause human extinction or permanently and drastically curtail humanity's potential is known as an existential risk.&#91;12&#93;\\nPotential global catastrophic risks include anthropogenic risks, caused by humans (technology, governance, climate change), and natural or external risks.&#91;11&#93; Examples of technology risks are hostile artificial intelligence and destructive biotechnology or nanotechnology. Insufficient or malign global governance creates risks in the social and political domain, such as a global war, including nuclear holocaust, bioterrorism using genetically modified organisms, cyberterrorism destroying critical infrastructure like the electrical grid; or the failure to manage a natural pandemic. Problems and risks in the domain of earth system governance include global warming, environmental degradation, including extinction of species, famine as a result of non-equitable resource distribution, human overpopulation, crop failures and non-sustainable agriculture. Examples of non-anthropogenic risks are an asteroid impact event, a supervolcanic eruption, a lethal gamma-ray burst, a geomagnetic storm destroying electronic equipment, natural long-term climate change, hostile extraterrestrial life, or the predictable Sun transforming into a red giant star engulfing the Earth.There are top 10 imminent risk.\""
      ]
     },
     "execution_count": 25,
     "metadata": {},
     "output_type": "execute_result"
    }
   ],
   "source": [
    "text_no_tag = text_no_tag + 'There are top 10 imminent risk.'\n",
    "text_no_tag"
   ]
  },
  {
   "cell_type": "code",
   "execution_count": null,
   "metadata": {},
   "outputs": [],
   "source": [
    "# Write  code here\n",
    "\n",
    "\n",
    "\n"
   ]
  },
  {
   "cell_type": "markdown",
   "metadata": {},
   "source": [
    "# Q 2d(2.0= .5+(.25+.25+.25) + .75) Use following clean text.\n",
    "Use **nltk** to\n",
    "1. remove stopwords\n",
    "1. For sentences in clean_text, print part of speech for each word it.\n",
    "1. Find top 3 nouns in clean_text"
   ]
  },
  {
   "cell_type": "code",
   "execution_count": 13,
   "metadata": {},
   "outputs": [],
   "source": [
    "clean_text= \"A global catastrophic risk is a hypothetical future event which could damage human well-being on a global scale, even crippling or destroying modern civilization. An event that could cause human extinction or permanently and drastically curtail humanity's potential is known as an existential risk.Potential global catastrophic risks include anthropogenic risks, caused by humans (technology, governance, climate change), and natural or external risks. Examples of technology risks are hostile artificial intelligence and destructive biotechnology or nanotechnology. Insufficient or malign global governance creates risks in the social and political domain, such as a global war, including nuclear holocaust, bioterrorism using genetically modified organisms, cyberterrorism destroying critical infrastructure like the electrical grid; or the failure to manage a natural pandemic. Problems and risks in the domain of earth system governance include global warming, environmental degradation, including extinction of species, famine as a result of non-equitable resource distribution, human overpopulation, crop failures and non-sustainable agriculture. Examples of non-anthropogenic risks are an asteroid impact event, a supervolcanic eruption, a lethal gamma-ray burst, a geomagnetic storm destroying electronic equipment, natural long-term climate change, hostile extraterrestrial life, or the predictable Sun transforming into a red giant star engulfing the Earth.There are top 10 imminent risk.\""
   ]
  },
  {
   "cell_type": "code",
   "execution_count": 15,
   "metadata": {
    "scrolled": true
   },
   "outputs": [
    {
     "data": {
      "text/plain": [
       "\"A global catastrophic risk is a hypothetical future event which could damage human well-being on a global scale, even crippling or destroying modern civilization. An event that could cause human extinction or permanently and drastically curtail humanity's potential is known as an existential risk.Potential global catastrophic risks include anthropogenic risks, caused by humans (technology, governance, climate change), and natural or external risks. Examples of technology risks are hostile artificial intelligence and destructive biotechnology or nanotechnology. Insufficient or malign global governance creates risks in the social and political domain, such as a global war, including nuclear holocaust, bioterrorism using genetically modified organisms, cyberterrorism destroying critical infrastructure like the electrical grid; or the failure to manage a natural pandemic. Problems and risks in the domain of earth system governance include global warming, environmental degradation, including extinction of species, famine as a result of non-equitable resource distribution, human overpopulation, crop failures and non-sustainable agriculture. Examples of non-anthropogenic risks are an asteroid impact event, a supervolcanic eruption, a lethal gamma-ray burst, a geomagnetic storm destroying electronic equipment, natural long-term climate change, hostile extraterrestrial life, or the predictable Sun transforming into a red giant star engulfing the Earth.There are top 10 imminent risk.\""
      ]
     },
     "execution_count": 15,
     "metadata": {},
     "output_type": "execute_result"
    }
   ],
   "source": [
    "clean_text"
   ]
  },
  {
   "cell_type": "code",
   "execution_count": 1,
   "metadata": {},
   "outputs": [],
   "source": [
    "# write code here part 1\n",
    "\n"
   ]
  },
  {
   "cell_type": "code",
   "execution_count": null,
   "metadata": {},
   "outputs": [],
   "source": [
    "# write code here part 2"
   ]
  },
  {
   "cell_type": "code",
   "execution_count": null,
   "metadata": {},
   "outputs": [],
   "source": [
    "# write code here part 3"
   ]
  },
  {
   "cell_type": "markdown",
   "metadata": {},
   "source": [
    "# Let's download movie lense dataset [MovieLens](https://grouplens.org/datasets/movielens/) and extract zip file using various python packages**\n",
    "\n",
    "http://files.grouplens.org/datasets/movielens/ml-latest-small.zip\n"
   ]
  },
  {
   "cell_type": "code",
   "execution_count": 40,
   "metadata": {},
   "outputs": [
    {
     "name": "stdout",
     "output_type": "stream",
     "text": [
      "200\n"
     ]
    }
   ],
   "source": [
    "r = requests.get(\"http://files.grouplens.org/datasets/movielens/ml-latest-small.zip\")\n",
    "print(r.status_code)\n",
    "zipfile = ZipFile(BytesIO(r.content))\n",
    "zipfile.extractall()"
   ]
  },
  {
   "cell_type": "code",
   "execution_count": 41,
   "metadata": {},
   "outputs": [
    {
     "name": "stdout",
     "output_type": "stream",
     "text": [
      "links.csv  movies.csv  ratings.csv  README.txt\ttags.csv\r\n"
     ]
    }
   ],
   "source": [
    "! ls ml-latest-small/"
   ]
  },
  {
   "cell_type": "code",
   "execution_count": 142,
   "metadata": {},
   "outputs": [
    {
     "data": {
      "text/html": [
       "<div>\n",
       "<style scoped>\n",
       "    .dataframe tbody tr th:only-of-type {\n",
       "        vertical-align: middle;\n",
       "    }\n",
       "\n",
       "    .dataframe tbody tr th {\n",
       "        vertical-align: top;\n",
       "    }\n",
       "\n",
       "    .dataframe thead th {\n",
       "        text-align: right;\n",
       "    }\n",
       "</style>\n",
       "<table border=\"1\" class=\"dataframe\">\n",
       "  <thead>\n",
       "    <tr style=\"text-align: right;\">\n",
       "      <th></th>\n",
       "      <th>movieId</th>\n",
       "      <th>title</th>\n",
       "      <th>genres</th>\n",
       "    </tr>\n",
       "  </thead>\n",
       "  <tbody>\n",
       "    <tr>\n",
       "      <th>0</th>\n",
       "      <td>1</td>\n",
       "      <td>Toy Story (1995)</td>\n",
       "      <td>Adventure|Animation|Children|Comedy|Fantasy</td>\n",
       "    </tr>\n",
       "    <tr>\n",
       "      <th>1</th>\n",
       "      <td>2</td>\n",
       "      <td>Jumanji (1995)</td>\n",
       "      <td>Adventure|Children|Fantasy</td>\n",
       "    </tr>\n",
       "    <tr>\n",
       "      <th>2</th>\n",
       "      <td>3</td>\n",
       "      <td>Grumpier Old Men (1995)</td>\n",
       "      <td>Comedy|Romance</td>\n",
       "    </tr>\n",
       "    <tr>\n",
       "      <th>3</th>\n",
       "      <td>4</td>\n",
       "      <td>Waiting to Exhale (1995)</td>\n",
       "      <td>Comedy|Drama|Romance</td>\n",
       "    </tr>\n",
       "    <tr>\n",
       "      <th>4</th>\n",
       "      <td>5</td>\n",
       "      <td>Father of the Bride Part II (1995)</td>\n",
       "      <td>Comedy</td>\n",
       "    </tr>\n",
       "  </tbody>\n",
       "</table>\n",
       "</div>"
      ],
      "text/plain": [
       "   movieId                               title  \\\n",
       "0        1                    Toy Story (1995)   \n",
       "1        2                      Jumanji (1995)   \n",
       "2        3             Grumpier Old Men (1995)   \n",
       "3        4            Waiting to Exhale (1995)   \n",
       "4        5  Father of the Bride Part II (1995)   \n",
       "\n",
       "                                        genres  \n",
       "0  Adventure|Animation|Children|Comedy|Fantasy  \n",
       "1                   Adventure|Children|Fantasy  \n",
       "2                               Comedy|Romance  \n",
       "3                         Comedy|Drama|Romance  \n",
       "4                                       Comedy  "
      ]
     },
     "execution_count": 142,
     "metadata": {},
     "output_type": "execute_result"
    }
   ],
   "source": [
    "# lets read movies.csv file\n",
    "movie = pd.read_csv('./ml-latest-small/movies.csv')\n",
    "\n",
    "movie.head()"
   ]
  },
  {
   "cell_type": "code",
   "execution_count": 143,
   "metadata": {},
   "outputs": [
    {
     "data": {
      "text/plain": [
       "movieId    False\n",
       "title      False\n",
       "genres     False\n",
       "dtype: bool"
      ]
     },
     "execution_count": 143,
     "metadata": {},
     "output_type": "execute_result"
    }
   ],
   "source": [
    "movie.isnull().any()"
   ]
  },
  {
   "cell_type": "code",
   "execution_count": 145,
   "metadata": {},
   "outputs": [
    {
     "name": "stdout",
     "output_type": "stream",
     "text": [
      "userId                int64\n",
      "movieId               int64\n",
      "rating              float64\n",
      "timestamp    datetime64[ns]\n",
      "dtype: object\n"
     ]
    },
    {
     "data": {
      "text/html": [
       "<div>\n",
       "<style scoped>\n",
       "    .dataframe tbody tr th:only-of-type {\n",
       "        vertical-align: middle;\n",
       "    }\n",
       "\n",
       "    .dataframe tbody tr th {\n",
       "        vertical-align: top;\n",
       "    }\n",
       "\n",
       "    .dataframe thead th {\n",
       "        text-align: right;\n",
       "    }\n",
       "</style>\n",
       "<table border=\"1\" class=\"dataframe\">\n",
       "  <thead>\n",
       "    <tr style=\"text-align: right;\">\n",
       "      <th></th>\n",
       "      <th>userId</th>\n",
       "      <th>movieId</th>\n",
       "      <th>rating</th>\n",
       "      <th>timestamp</th>\n",
       "    </tr>\n",
       "  </thead>\n",
       "  <tbody>\n",
       "    <tr>\n",
       "      <th>0</th>\n",
       "      <td>1</td>\n",
       "      <td>1</td>\n",
       "      <td>4.0</td>\n",
       "      <td>1970-01-01 00:00:00.964982703</td>\n",
       "    </tr>\n",
       "    <tr>\n",
       "      <th>1</th>\n",
       "      <td>1</td>\n",
       "      <td>3</td>\n",
       "      <td>4.0</td>\n",
       "      <td>1970-01-01 00:00:00.964981247</td>\n",
       "    </tr>\n",
       "    <tr>\n",
       "      <th>2</th>\n",
       "      <td>1</td>\n",
       "      <td>6</td>\n",
       "      <td>4.0</td>\n",
       "      <td>1970-01-01 00:00:00.964982224</td>\n",
       "    </tr>\n",
       "    <tr>\n",
       "      <th>3</th>\n",
       "      <td>1</td>\n",
       "      <td>47</td>\n",
       "      <td>5.0</td>\n",
       "      <td>1970-01-01 00:00:00.964983815</td>\n",
       "    </tr>\n",
       "    <tr>\n",
       "      <th>4</th>\n",
       "      <td>1</td>\n",
       "      <td>50</td>\n",
       "      <td>5.0</td>\n",
       "      <td>1970-01-01 00:00:00.964982931</td>\n",
       "    </tr>\n",
       "  </tbody>\n",
       "</table>\n",
       "</div>"
      ],
      "text/plain": [
       "   userId  movieId  rating                     timestamp\n",
       "0       1        1     4.0 1970-01-01 00:00:00.964982703\n",
       "1       1        3     4.0 1970-01-01 00:00:00.964981247\n",
       "2       1        6     4.0 1970-01-01 00:00:00.964982224\n",
       "3       1       47     5.0 1970-01-01 00:00:00.964983815\n",
       "4       1       50     5.0 1970-01-01 00:00:00.964982931"
      ]
     },
     "execution_count": 145,
     "metadata": {},
     "output_type": "execute_result"
    }
   ],
   "source": [
    "ratings = pd.read_csv('./ml-latest-small/ratings.csv', sep=',')\n",
    "ratings['timestamp'] = pd.to_datetime(ratings['timestamp'])\n",
    "print(ratings.dtypes)\n",
    "ratings.head()"
   ]
  },
  {
   "cell_type": "code",
   "execution_count": 146,
   "metadata": {},
   "outputs": [
    {
     "data": {
      "text/plain": [
       "userId       False\n",
       "movieId      False\n",
       "rating       False\n",
       "timestamp    False\n",
       "dtype: bool"
      ]
     },
     "execution_count": 146,
     "metadata": {},
     "output_type": "execute_result"
    }
   ],
   "source": [
    "ratings.isnull().any()"
   ]
  },
  {
   "cell_type": "code",
   "execution_count": 147,
   "metadata": {},
   "outputs": [
    {
     "data": {
      "text/html": [
       "<div>\n",
       "<style scoped>\n",
       "    .dataframe tbody tr th:only-of-type {\n",
       "        vertical-align: middle;\n",
       "    }\n",
       "\n",
       "    .dataframe tbody tr th {\n",
       "        vertical-align: top;\n",
       "    }\n",
       "\n",
       "    .dataframe thead th {\n",
       "        text-align: right;\n",
       "    }\n",
       "</style>\n",
       "<table border=\"1\" class=\"dataframe\">\n",
       "  <thead>\n",
       "    <tr style=\"text-align: right;\">\n",
       "      <th></th>\n",
       "      <th>movieId</th>\n",
       "      <th>rating</th>\n",
       "    </tr>\n",
       "  </thead>\n",
       "  <tbody>\n",
       "    <tr>\n",
       "      <th>0</th>\n",
       "      <td>1</td>\n",
       "      <td>4.0</td>\n",
       "    </tr>\n",
       "    <tr>\n",
       "      <th>1</th>\n",
       "      <td>3</td>\n",
       "      <td>4.0</td>\n",
       "    </tr>\n",
       "    <tr>\n",
       "      <th>2</th>\n",
       "      <td>6</td>\n",
       "      <td>4.0</td>\n",
       "    </tr>\n",
       "    <tr>\n",
       "      <th>3</th>\n",
       "      <td>47</td>\n",
       "      <td>5.0</td>\n",
       "    </tr>\n",
       "    <tr>\n",
       "      <th>4</th>\n",
       "      <td>50</td>\n",
       "      <td>5.0</td>\n",
       "    </tr>\n",
       "  </tbody>\n",
       "</table>\n",
       "</div>"
      ],
      "text/plain": [
       "   movieId  rating\n",
       "0        1     4.0\n",
       "1        3     4.0\n",
       "2        6     4.0\n",
       "3       47     5.0\n",
       "4       50     5.0"
      ]
     },
     "execution_count": 147,
     "metadata": {},
     "output_type": "execute_result"
    }
   ],
   "source": [
    "ratings = ratings[['movieId', 'rating']]\n",
    "ratings.head()"
   ]
  },
  {
   "cell_type": "markdown",
   "metadata": {},
   "source": [
    "# Q 3a(.75= .25+.25+.25 points) In the following code \n",
    "- Group rating DataFrame by movieId( resulting dataframe is grouped_movie in the following code).\n",
    "- Using grouped_movie dataFrame to calculate average rating(average_rating DataFrame) and number of movie(movie_count DataFrame) in each group \n",
    "\n",
    "*Remove #??? and write your code*"
   ]
  },
  {
   "cell_type": "code",
   "execution_count": null,
   "metadata": {},
   "outputs": [],
   "source": [
    "grouped_movie =  ##???\n",
    "average_rating = #??\n",
    "movie_count = #???\n",
    "print(average_rating.head())\n",
    "print(movie_count.head())\n",
    "\n",
    "\n"
   ]
  },
  {
   "cell_type": "markdown",
   "metadata": {},
   "source": [
    "# Q 3b(.5 points)    Merge movie and average_rating data frame on movieId using inner join\n"
   ]
  },
  {
   "cell_type": "code",
   "execution_count": 17,
   "metadata": {},
   "outputs": [],
   "source": [
    "average_rating = pd.read_csv('https://raw.githubusercontent.com/psnegi/datasets/master/movie_lens/average_rating.csv',index_col = 0, sep= ';')\n",
    "\n",
    "movie_with_avg_rating=#Remove this comment and write your code"
   ]
  },
  {
   "cell_type": "code",
   "execution_count": null,
   "metadata": {},
   "outputs": [],
   "source": [
    "movie_with_avg_rating.head()"
   ]
  },
  {
   "cell_type": "markdown",
   "metadata": {},
   "source": [
    "# Q 3c(1= .5(inner merge)+.5 points(suffix name)) Merge *movie_with_avg_rating* and  *movie_count* dataframe on movieId using inner join with suffixed '_avg','_count' on rating column as both have rating columns"
   ]
  },
  {
   "cell_type": "code",
   "execution_count": 19,
   "metadata": {},
   "outputs": [],
   "source": [
    "movie_count = pd.read_csv('https://raw.githubusercontent.com/psnegi/datasets/master/movie_lens/movie_count.csv',index_col = 0, sep= ';')\n",
    "movie_with_avg_rating = pd.read_csv('https://raw.githubusercontent.com/psnegi/datasets/master/movie_lens/movie_with_avg_rating.csv', sep= ';')\n",
    "\n",
    "movie_with_avg_rating_count = #Remove this comment and write your code"
   ]
  },
  {
   "cell_type": "code",
   "execution_count": null,
   "metadata": {
    "scrolled": true
   },
   "outputs": [],
   "source": [
    "# check if it works\n",
    "movie_with_avg_rating_count.head()"
   ]
  },
  {
   "cell_type": "markdown",
   "metadata": {},
   "source": [
    "# Q 3d( .5 points) Use movie_with_avg_rating_count to select movie with genres *Adventure*\n",
    "\n",
    "*is_animation should be bool Series*"
   ]
  },
  {
   "cell_type": "code",
   "execution_count": 167,
   "metadata": {},
   "outputs": [],
   "source": [
    "is_animation = #Remove this comment and write your code"
   ]
  },
  {
   "cell_type": "code",
   "execution_count": 168,
   "metadata": {},
   "outputs": [
    {
     "data": {
      "text/plain": [
       "dtype('bool')"
      ]
     },
     "execution_count": 168,
     "metadata": {},
     "output_type": "execute_result"
    }
   ],
   "source": [
    "is_animation.dtype"
   ]
  },
  {
   "cell_type": "code",
   "execution_count": null,
   "metadata": {},
   "outputs": [],
   "source": [
    "animation_movies= movie_with_avg_rating_count[is_animation]\n",
    "animation_movies.head()"
   ]
  },
  {
   "cell_type": "markdown",
   "metadata": {},
   "source": [
    "# Q 3e(1= .5(top five)+.5(analysis reason)) Using animation_movies DataFrame, selected top five adventure movies based on average rating. Do you agree/dis agree with this analysis. Please give your reason.\n"
   ]
  },
  {
   "cell_type": "code",
   "execution_count": null,
   "metadata": {
    "scrolled": true
   },
   "outputs": [],
   "source": [
    "animation_movies = pd.read_csv('https://raw.githubusercontent.com/psnegi/datasets/master/movie_lens/animation_movies.csv', sep=';')\n",
    "\n",
    "animation_movies.head()"
   ]
  },
  {
   "cell_type": "code",
   "execution_count": 26,
   "metadata": {},
   "outputs": [],
   "source": [
    "# Write your code here\n",
    "\n"
   ]
  },
  {
   "cell_type": "markdown",
   "metadata": {},
   "source": [
    "edit this cell to give the reason. Write no more than 2 lines."
   ]
  }
 ],
 "metadata": {
  "kernelspec": {
   "display_name": "Python 3",
   "language": "python",
   "name": "python3"
  },
  "language_info": {
   "codemirror_mode": {
    "name": "ipython",
    "version": 3
   },
   "file_extension": ".py",
   "mimetype": "text/x-python",
   "name": "python",
   "nbconvert_exporter": "python",
   "pygments_lexer": "ipython3",
   "version": "3.5.2"
  }
 },
 "nbformat": 4,
 "nbformat_minor": 2
}
